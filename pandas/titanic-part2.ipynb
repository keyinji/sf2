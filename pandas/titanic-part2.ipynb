{
 "cells": [
  {
   "cell_type": "markdown",
   "metadata": {},
   "source": [
    "# part 1"
   ]
  },
  {
   "cell_type": "markdown",
   "metadata": {},
   "source": [
    "import all necessary libraries (i.e. pandas and matplotlib)"
   ]
  },
  {
   "cell_type": "code",
   "execution_count": 181,
   "metadata": {},
   "outputs": [],
   "source": [
    "# your code here\n",
    "import pandas as pd\n",
    "import matplotlib.pyplot as plt"
   ]
  },
  {
   "cell_type": "markdown",
   "metadata": {},
   "source": [
    "Read the provided file `titanic.csv` into a DataFrame"
   ]
  },
  {
   "cell_type": "code",
   "execution_count": 182,
   "metadata": {},
   "outputs": [],
   "source": [
    "# your code here\n",
    "titanic_df = pd.read_csv('titanic.csv', delimiter = \",\")"
   ]
  },
  {
   "cell_type": "markdown",
   "metadata": {},
   "source": [
    "print the following\n",
    "- entries from the data frame\n",
    "- descriptive statistics, what is the average age, the maximum number of siblings and children? \n",
    "- general information\n",
    "- first 5 entries\n",
    "- first 15 entries\n",
    "- last 5 entries\n",
    "- last 15 entries\n",
    "- sample of random 10 entries"
   ]
  },
  {
   "cell_type": "code",
   "execution_count": 183,
   "metadata": {},
   "outputs": [
    {
     "data": {
      "text/html": [
       "<div>\n",
       "<style scoped>\n",
       "    .dataframe tbody tr th:only-of-type {\n",
       "        vertical-align: middle;\n",
       "    }\n",
       "\n",
       "    .dataframe tbody tr th {\n",
       "        vertical-align: top;\n",
       "    }\n",
       "\n",
       "    .dataframe thead th {\n",
       "        text-align: right;\n",
       "    }\n",
       "</style>\n",
       "<table border=\"1\" class=\"dataframe\">\n",
       "  <thead>\n",
       "    <tr style=\"text-align: right;\">\n",
       "      <th></th>\n",
       "      <th>survived</th>\n",
       "      <th>pclass</th>\n",
       "      <th>sex</th>\n",
       "      <th>age</th>\n",
       "      <th>sibsp</th>\n",
       "      <th>fare</th>\n",
       "      <th>class</th>\n",
       "      <th>who</th>\n",
       "      <th>adult_male</th>\n",
       "      <th>deck</th>\n",
       "      <th>embark_town</th>\n",
       "      <th>alive</th>\n",
       "      <th>alone</th>\n",
       "    </tr>\n",
       "  </thead>\n",
       "  <tbody>\n",
       "    <tr>\n",
       "      <th>70</th>\n",
       "      <td>0</td>\n",
       "      <td>2</td>\n",
       "      <td>male</td>\n",
       "      <td>32.0</td>\n",
       "      <td>0</td>\n",
       "      <td>10.5000</td>\n",
       "      <td>Second</td>\n",
       "      <td>man</td>\n",
       "      <td>True</td>\n",
       "      <td>NaN</td>\n",
       "      <td>Southampton</td>\n",
       "      <td>no</td>\n",
       "      <td>True</td>\n",
       "    </tr>\n",
       "    <tr>\n",
       "      <th>234</th>\n",
       "      <td>0</td>\n",
       "      <td>2</td>\n",
       "      <td>male</td>\n",
       "      <td>24.0</td>\n",
       "      <td>0</td>\n",
       "      <td>10.5000</td>\n",
       "      <td>Second</td>\n",
       "      <td>man</td>\n",
       "      <td>True</td>\n",
       "      <td>NaN</td>\n",
       "      <td>Southampton</td>\n",
       "      <td>no</td>\n",
       "      <td>True</td>\n",
       "    </tr>\n",
       "    <tr>\n",
       "      <th>707</th>\n",
       "      <td>1</td>\n",
       "      <td>1</td>\n",
       "      <td>male</td>\n",
       "      <td>42.0</td>\n",
       "      <td>0</td>\n",
       "      <td>26.2875</td>\n",
       "      <td>First</td>\n",
       "      <td>man</td>\n",
       "      <td>True</td>\n",
       "      <td>E</td>\n",
       "      <td>Southampton</td>\n",
       "      <td>yes</td>\n",
       "      <td>True</td>\n",
       "    </tr>\n",
       "    <tr>\n",
       "      <th>84</th>\n",
       "      <td>1</td>\n",
       "      <td>2</td>\n",
       "      <td>female</td>\n",
       "      <td>17.0</td>\n",
       "      <td>0</td>\n",
       "      <td>10.5000</td>\n",
       "      <td>Second</td>\n",
       "      <td>woman</td>\n",
       "      <td>False</td>\n",
       "      <td>NaN</td>\n",
       "      <td>Southampton</td>\n",
       "      <td>yes</td>\n",
       "      <td>True</td>\n",
       "    </tr>\n",
       "    <tr>\n",
       "      <th>131</th>\n",
       "      <td>0</td>\n",
       "      <td>3</td>\n",
       "      <td>male</td>\n",
       "      <td>20.0</td>\n",
       "      <td>0</td>\n",
       "      <td>7.0500</td>\n",
       "      <td>Third</td>\n",
       "      <td>man</td>\n",
       "      <td>True</td>\n",
       "      <td>NaN</td>\n",
       "      <td>Southampton</td>\n",
       "      <td>no</td>\n",
       "      <td>True</td>\n",
       "    </tr>\n",
       "    <tr>\n",
       "      <th>114</th>\n",
       "      <td>0</td>\n",
       "      <td>3</td>\n",
       "      <td>female</td>\n",
       "      <td>17.0</td>\n",
       "      <td>0</td>\n",
       "      <td>14.4583</td>\n",
       "      <td>Third</td>\n",
       "      <td>woman</td>\n",
       "      <td>False</td>\n",
       "      <td>NaN</td>\n",
       "      <td>Cherbourg</td>\n",
       "      <td>no</td>\n",
       "      <td>True</td>\n",
       "    </tr>\n",
       "    <tr>\n",
       "      <th>411</th>\n",
       "      <td>0</td>\n",
       "      <td>3</td>\n",
       "      <td>male</td>\n",
       "      <td>NaN</td>\n",
       "      <td>0</td>\n",
       "      <td>6.8583</td>\n",
       "      <td>Third</td>\n",
       "      <td>man</td>\n",
       "      <td>True</td>\n",
       "      <td>NaN</td>\n",
       "      <td>Queenstown</td>\n",
       "      <td>no</td>\n",
       "      <td>True</td>\n",
       "    </tr>\n",
       "    <tr>\n",
       "      <th>727</th>\n",
       "      <td>1</td>\n",
       "      <td>3</td>\n",
       "      <td>female</td>\n",
       "      <td>NaN</td>\n",
       "      <td>0</td>\n",
       "      <td>7.7375</td>\n",
       "      <td>Third</td>\n",
       "      <td>woman</td>\n",
       "      <td>False</td>\n",
       "      <td>NaN</td>\n",
       "      <td>Queenstown</td>\n",
       "      <td>yes</td>\n",
       "      <td>True</td>\n",
       "    </tr>\n",
       "    <tr>\n",
       "      <th>317</th>\n",
       "      <td>0</td>\n",
       "      <td>2</td>\n",
       "      <td>male</td>\n",
       "      <td>54.0</td>\n",
       "      <td>0</td>\n",
       "      <td>14.0000</td>\n",
       "      <td>Second</td>\n",
       "      <td>man</td>\n",
       "      <td>True</td>\n",
       "      <td>NaN</td>\n",
       "      <td>Southampton</td>\n",
       "      <td>no</td>\n",
       "      <td>True</td>\n",
       "    </tr>\n",
       "    <tr>\n",
       "      <th>256</th>\n",
       "      <td>1</td>\n",
       "      <td>1</td>\n",
       "      <td>female</td>\n",
       "      <td>NaN</td>\n",
       "      <td>0</td>\n",
       "      <td>79.2000</td>\n",
       "      <td>First</td>\n",
       "      <td>woman</td>\n",
       "      <td>False</td>\n",
       "      <td>NaN</td>\n",
       "      <td>Cherbourg</td>\n",
       "      <td>yes</td>\n",
       "      <td>True</td>\n",
       "    </tr>\n",
       "  </tbody>\n",
       "</table>\n",
       "</div>"
      ],
      "text/plain": [
       "     survived  pclass     sex   age  sibsp     fare   class    who  \\\n",
       "70          0       2    male  32.0      0  10.5000  Second    man   \n",
       "234         0       2    male  24.0      0  10.5000  Second    man   \n",
       "707         1       1    male  42.0      0  26.2875   First    man   \n",
       "84          1       2  female  17.0      0  10.5000  Second  woman   \n",
       "131         0       3    male  20.0      0   7.0500   Third    man   \n",
       "114         0       3  female  17.0      0  14.4583   Third  woman   \n",
       "411         0       3    male   NaN      0   6.8583   Third    man   \n",
       "727         1       3  female   NaN      0   7.7375   Third  woman   \n",
       "317         0       2    male  54.0      0  14.0000  Second    man   \n",
       "256         1       1  female   NaN      0  79.2000   First  woman   \n",
       "\n",
       "     adult_male deck  embark_town alive  alone  \n",
       "70         True  NaN  Southampton    no   True  \n",
       "234        True  NaN  Southampton    no   True  \n",
       "707        True    E  Southampton   yes   True  \n",
       "84        False  NaN  Southampton   yes   True  \n",
       "131        True  NaN  Southampton    no   True  \n",
       "114       False  NaN    Cherbourg    no   True  \n",
       "411        True  NaN   Queenstown    no   True  \n",
       "727       False  NaN   Queenstown   yes   True  \n",
       "317        True  NaN  Southampton    no   True  \n",
       "256       False  NaN    Cherbourg   yes   True  "
      ]
     },
     "execution_count": 183,
     "metadata": {},
     "output_type": "execute_result"
    }
   ],
   "source": [
    "# your code here\n",
    "titanic_df\n",
    "titanic_df[\"age\"].mean()\n",
    "titanic_df[\"sibsp\"].max()\n",
    "titanic_df.describe()\n",
    "titanic_df.head(5)\n",
    "titanic_df.head(15)\n",
    "titanic_df.tail(5)\n",
    "titanic_df.tail(15)\n",
    "titanic_df.sample(10)\n"
   ]
  },
  {
   "cell_type": "markdown",
   "metadata": {},
   "source": [
    "draw a histogram for age distribution using `matplotlib`"
   ]
  },
  {
   "cell_type": "code",
   "execution_count": 184,
   "metadata": {},
   "outputs": [
    {
     "data": {
      "text/plain": [
       "(array([ 54.,  46., 177., 169., 118.,  70.,  45.,  24.,   9.,   2.]),\n",
       " array([ 0.42 ,  8.378, 16.336, 24.294, 32.252, 40.21 , 48.168, 56.126,\n",
       "        64.084, 72.042, 80.   ]),\n",
       " <BarContainer object of 10 artists>)"
      ]
     },
     "execution_count": 184,
     "metadata": {},
     "output_type": "execute_result"
    },
    {
     "data": {
      "image/png": "[encoded data removed]",
      "text/plain": [
       "<Figure size 640x480 with 1 Axes>"
      ]
     },
     "metadata": {},
     "output_type": "display_data"
    }
   ],
   "source": [
    "# yoru code here\n",
    "xpoints = titanic_df[\"age\"]\n",
    "plt.hist(xpoints)"
   ]
  },
  {
   "cell_type": "markdown",
   "metadata": {},
   "source": [
    "- Create a new DataFrame with only entries where age > 30.  \n",
    "- Give number of such entires\n",
    "- show only the women entries, how many  are there over the age of 30\n",
    "- the men entries, how many men are there over the age of 30\n",
    "- plot the new histogram for all ages >30, how does this histogram differ from the one you plotted above?"
   ]
  },
  {
   "cell_type": "code",
   "execution_count": null,
   "metadata": {},
   "outputs": [],
   "source": []
  },
  {
   "cell_type": "code",
   "execution_count": 185,
   "metadata": {},
   "outputs": [
    {
     "data": {
      "text/plain": [
       "(array([88., 67., 47., 39., 24., 18., 14.,  3.,  4.,  1.]),\n",
       " array([30.5 , 35.45, 40.4 , 45.35, 50.3 , 55.25, 60.2 , 65.15, 70.1 ,\n",
       "        75.05, 80.  ]),\n",
       " <BarContainer object of 10 artists>)"
      ]
     },
     "execution_count": 185,
     "metadata": {},
     "output_type": "execute_result"
    },
    {
     "data": {
      "image/png": "[encoded data removed]",
      "text/plain": [
       "<Figure size 640x480 with 1 Axes>"
      ]
     },
     "metadata": {},
     "output_type": "display_data"
    }
   ],
   "source": [
    "# your code here\n",
    "age_filter = titanic_df[\"age\"] > 30\n",
    "titanic_30 = titanic_df[age_filter]\n",
    "titanic_30.count()\n",
    "women = titanic_30[\"sex\"] == \"female\"\n",
    "titanic_women = titanic_30[women]\n",
    "titanic_women\n",
    "men = titanic_30[\"sex\"] == \"male\"\n",
    "titanic_men = titanic_30[men]\n",
    "titanic_men\n",
    "plt.hist(titanic_30[\"age\"])\n"
   ]
  },
  {
   "cell_type": "markdown",
   "metadata": {},
   "source": [
    "Use `pandas` to plot the pie chart of all classes on board the titanic.  "
   ]
  },
  {
   "cell_type": "code",
   "execution_count": 186,
   "metadata": {},
   "outputs": [
    {
     "data": {
      "text/plain": [
       "<Axes: ylabel='count'>"
      ]
     },
     "execution_count": 186,
     "metadata": {},
     "output_type": "execute_result"
    },
    {
     "data": {
      "image/png": "[encoded data removed]",
      "text/plain": [
       "<Figure size 640x480 with 1 Axes>"
      ]
     },
     "metadata": {},
     "output_type": "display_data"
    }
   ],
   "source": [
    "# your code here\n",
    "titanic_df[\"class\"].value_counts().plot(kind=\"pie\")"
   ]
  },
  {
   "cell_type": "markdown",
   "metadata": {},
   "source": [
    "use `pandas` to plot the bar chart of all towns that people embarked from.  "
   ]
  },
  {
   "cell_type": "code",
   "execution_count": 187,
   "metadata": {},
   "outputs": [
    {
     "data": {
      "text/plain": [
       "<Axes: xlabel='embark_town'>"
      ]
     },
     "execution_count": 187,
     "metadata": {},
     "output_type": "execute_result"
    },
    {
     "data": {
      "image/png": "[encoded data removed]",
      "text/plain": [
       "<Figure size 640x480 with 1 Axes>"
      ]
     },
     "metadata": {},
     "output_type": "display_data"
    }
   ],
   "source": [
    "# your code here\n",
    "titanic_df[\"embark_town\"].value_counts().plot(kind=\"bar\")"
   ]
  },
  {
   "cell_type": "markdown",
   "metadata": {},
   "source": [
    "# part 2"
   ]
  },
  {
   "cell_type": "markdown",
   "metadata": {},
   "source": [
    "- Create a new DataFrame with 3 columns: fare, class, embark_town.  \n",
    "- Clean your data from all `NaN` values.  \n",
    "- Sort your DataFrame by fare in decreasing order.  \n",
    "- Sort the same data frame in alphabetical order of the embarked_town."
   ]
  },
  {
   "cell_type": "code",
   "execution_count": 188,
   "metadata": {},
   "outputs": [
    {
     "name": "stdout",
     "output_type": "stream",
     "text": [
      "         fare  pclass  embark_town\n",
      "258  512.3292       1    Cherbourg\n",
      "487   29.7000       1    Cherbourg\n",
      "839   29.7000       1    Cherbourg\n",
      "177   28.7125       1    Cherbourg\n",
      "452   27.7500       1    Cherbourg\n",
      "..        ...     ...          ...\n",
      "333   18.0000       3  Southampton\n",
      "38    18.0000       3  Southampton\n",
      "18    18.0000       3  Southampton\n",
      "548   20.5250       3  Southampton\n",
      "597    0.0000       3  Southampton\n",
      "\n",
      "[889 rows x 3 columns]\n"
     ]
    }
   ],
   "source": [
    "# Create a new DataFrame with selected columns\n",
    "new = titanic_df[[\"fare\", \"pclass\", \"embark_town\"]]\n",
    "\n",
    "# Clean the data by removing rows where any of the values are NaN\n",
    "new = new.dropna()\n",
    "\n",
    "# Sort the DataFrame by fare in decreasing order\n",
    "new_sorted_fare = new.sort_values(by=\"fare\", ascending=False)\n",
    "\n",
    "# Sort the same DataFrame by embark_town alphabetically\n",
    "new_sorted_embark_town = new_sorted_fare.sort_values(by=\"embark_town\")\n",
    "\n",
    "# Display the final result\n",
    "print(new_sorted_embark_town)\n",
    "\n"
   ]
  },
  {
   "cell_type": "markdown",
   "metadata": {},
   "source": [
    "Create a new DataFrame that holds all entries with classes 2 or 3.  Plot the histogram of classes 2 and 3.\n",
    "In pandas `&` corresponds to logical `and`, and `|` corresponds to logical `or`"
   ]
  },
  {
   "cell_type": "code",
   "execution_count": 196,
   "metadata": {},
   "outputs": [
    {
     "data": {
      "image/png": "[encoded data removed]",
      "text/plain": [
       "<Figure size 800x600 with 1 Axes>"
      ]
     },
     "metadata": {},
     "output_type": "display_data"
    }
   ],
   "source": [
    "# your code here\n",
    "filtered_df = titanic_df[(titanic_df['pclass'] == 2) | (titanic_df['pclass'] == 3)]\n",
    "\n",
    "# Plot the histogram for the 'pclass' column (classes 2 and 3)\n",
    "plt.figure(figsize=(8, 6))\n",
    "plt.hist(filtered_df['pclass'], bins=2, edgecolor='black', alpha=0.7)\n",
    "plt.title('Histogram of Classes 2 and 3')\n",
    "plt.xlabel('Class')\n",
    "plt.ylabel('Frequency')\n",
    "plt.xticks([2, 3])\n",
    "plt.show()\n"
   ]
  },
  {
   "cell_type": "markdown",
   "metadata": {},
   "source": [
    "Customize row indices such that indices are according to embarked town, drop all `NaN` values, and sort in alphabetical order of embarked town. "
   ]
  },
  {
   "cell_type": "code",
   "execution_count": 201,
   "metadata": {},
   "outputs": [],
   "source": [
    "# your code here\n",
    "\n"
   ]
  },
  {
   "cell_type": "markdown",
   "metadata": {},
   "source": [
    "Let's aggregate data into groups\n",
    "- get the number of entries from each class (i.e. pclass column in csv file). How many people are in first class, how many in second class and how many in third? \n",
    "- get number of entries from each town.  There are a total of how many towns that people embarked from? \n",
    "- get general summary of each class, round the date to 2 decimal places and display your data such that the three classes are shown as columns\n",
    "- get the number of suvivors and non-survivors in each class. \n",
    "- show full DataFrame of how many children, women and men are in each of the three classes. \n",
    "- plot women, men, children according to class"
   ]
  },
  {
   "cell_type": "code",
   "execution_count": 222,
   "metadata": {},
   "outputs": [
    {
     "data": {
      "text/plain": [
       "<Axes: title={'center': 'ok'}, xlabel='pclass'>"
      ]
     },
     "execution_count": 222,
     "metadata": {},
     "output_type": "execute_result"
    },
    {
     "data": {
      "image/png": "[encoded data removed]",
      "text/plain": [
       "<Figure size 640x480 with 1 Axes>"
      ]
     },
     "metadata": {},
     "output_type": "display_data"
    }
   ],
   "source": [
    "titanic_df.groupby('pclass').size()\n",
    "titanic_df.groupby('embark_town').size()\n",
    "titanic_df.groupby('pclass').describe().round(2).T\n",
    "titanic_df.groupby(['pclass', 'survived']).size()\n",
    "titanic_df.groupby(['pclass', 'who']).count()\n",
    "\n",
    "titanic_df.groupby(['pclass', 'who']).size().unstack().plot.bar(title= \"ok\")\n",
    "\n",
    "\n"
   ]
  },
  {
   "cell_type": "markdown",
   "metadata": {},
   "source": [
    "plot a histogram with age on the x-axis and number of people on the y-axis and the histogram depicrts the number of survivors and non-survivors"
   ]
  },
  {
   "cell_type": "code",
   "execution_count": null,
   "metadata": {},
   "outputs": [],
   "source": [
    "# your code here\n"
   ]
  }
 ],
 "metadata": {
  "kernelspec": {
   "display_name": "Python 3",
   "language": "python",
   "name": "python3"
  },
  "language_info": {
   "codemirror_mode": {
    "name": "ipython",
    "version": 3
   },
   "file_extension": ".py",
   "mimetype": "text/x-python",
   "name": "python",
   "nbconvert_exporter": "python",
   "pygments_lexer": "ipython3",
   "version": "3.12.3"
  }
 },
 "nbformat": 4,
 "nbformat_minor": 2
}
