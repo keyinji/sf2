{
 "cells": [
  {
   "cell_type": "code",
   "execution_count": 2,
   "metadata": {},
   "outputs": [
    {
     "name": "stdout",
     "output_type": "stream",
     "text": [
      "hello\n"
     ]
    }
   ],
   "source": [
    "print(\"hello\")"
   ]
  },
  {
   "cell_type": "markdown",
   "metadata": {},
   "source": [
    "**ok**\n",
    "# H1\n",
    "## H2\n",
    "### H3\n",
    "*123*\n",
    "~~ok~~\n",
    "> blockquote\n",
    "Here's a numerical enumeration\n",
    "1. item one\n",
    "2. item 3\n",
    "\n",
    "\n",
    "- item 2\n",
    "- otem 2\n",
    "\n",
    "[title](\"https://hello.com)\n",
    "Table:\n",
    "| column 1 | column 2 |\n",
    "|----------|----------|\n",
    "| item 1   | item 2   |\n",
    "\n",
    "```\n",
    "{\n",
    "    first_name: \"OK\"\n",
    "}\n",
    "```\n"
   ]
  },
  {
   "cell_type": "code",
   "execution_count": null,
   "metadata": {},
   "outputs": [],
   "source": []
  },
  {
   "cell_type": "markdown",
   "metadata": {},
   "source": [
    "`variable-name`\n",
    "\n",
    "---\n"
   ]
  }
 ],
 "metadata": {
  "kernelspec": {
   "display_name": "Python 3",
   "language": "python",
   "name": "python3"
  },
  "language_info": {
   "codemirror_mode": {
    "name": "ipython",
    "version": 3
   },
   "file_extension": ".py",
   "mimetype": "text/x-python",
   "name": "python",
   "nbconvert_exporter": "python",
   "pygments_lexer": "ipython3",
   "version": "3.12.3"
  }
 },
 "nbformat": 4,
 "nbformat_minor": 2
}
