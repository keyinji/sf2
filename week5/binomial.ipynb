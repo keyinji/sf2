{
 "cells": [
  {
   "cell_type": "code",
   "execution_count": 44,
   "metadata": {},
   "outputs": [
    {
     "name": "stdout",
     "output_type": "stream",
     "text": [
      "1 \n",
      "1 1 \n",
      "1 2 1 \n",
      "1 3 3 1 \n"
     ]
    }
   ],
   "source": [
    "from math import factorial\n",
    "def b(n,k):\n",
    "    return factorial(n)// (factorial(k)*factorial(n-k))\n",
    "\n",
    "\n",
    "def pascal(rows):\n",
    "    lst = []\n",
    "    i = 0\n",
    "    k = 0\n",
    "    while i < rows:\n",
    "        sublist = []\n",
    "        while k <= i:\n",
    "            result = b(i,k)\n",
    "            sublist.append(result)\n",
    "            k = k + 1\n",
    "        lst.append(sublist)\n",
    "        i = i + 1\n",
    "        k = 0\n",
    "    return lst\n",
    "\n",
    "pascal(4)\n",
    "\n",
    "def print_stuff(lst):\n",
    "    for row in lst:\n",
    "        for i in range(len(row)):\n",
    "            print(row[i], end = \" \")\n",
    "        print()\n",
    "        \n",
    "print_stuff(pascal(4))\n",
    "\n"
   ]
  },
  {
   "cell_type": "code",
   "execution_count": 45,
   "metadata": {},
   "outputs": [
    {
     "name": "stdout",
     "output_type": "stream",
     "text": [
      "1 \n",
      "1 1 \n",
      "1 2 1 \n",
      "1 3 3 1 \n"
     ]
    }
   ],
   "source": [
    "# teachers code \n",
    "\n",
    "def Triangle(n):\n",
    "    matrix = []\n",
    "    for row in range(n):\n",
    "        sublist = []\n",
    "        for k in range(row+1):\n",
    "            if k == 0:\n",
    "                sublist.append(1)\n",
    "            elif k == row:\n",
    "                sublist.append(1)\n",
    "            else:\n",
    "                sublist.append(matrix[row-1][k-1] + matrix[row-1][k])\n",
    "        matrix.append(sublist)\n",
    "    return matrix \n",
    "\n",
    "def print_stuff(lst):\n",
    "    for row in lst:\n",
    "        for i in range(len(row)):\n",
    "            print(row[i], end = \" \")\n",
    "        print()\n",
    "print_stuff(Triangle(4))"
   ]
  }
 ],
 "metadata": {
  "kernelspec": {
   "display_name": "Python 3",
   "language": "python",
   "name": "python3"
  },
  "language_info": {
   "codemirror_mode": {
    "name": "ipython",
    "version": 3
   },
   "file_extension": ".py",
   "mimetype": "text/x-python",
   "name": "python",
   "nbconvert_exporter": "python",
   "pygments_lexer": "ipython3",
   "version": "3.12.3"
  }
 },
 "nbformat": 4,
 "nbformat_minor": 2
}
