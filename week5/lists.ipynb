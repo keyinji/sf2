{
 "cells": [
  {
   "cell_type": "markdown",
   "metadata": {},
   "source": [
    "# Title\n",
    "- given a list of lists sort each sublist in decreasing sorted order\n",
    "- cannot use built-in functions \n",
    "- must define a sort function that can either increase or decrease"
   ]
  },
  {
   "cell_type": "code",
   "execution_count": 52,
   "metadata": {},
   "outputs": [
    {
     "ename": "KeyboardInterrupt",
     "evalue": "",
     "output_type": "error",
     "traceback": [
      "\u001b[1;31m---------------------------------------------------------------------------\u001b[0m",
      "\u001b[1;31mKeyboardInterrupt\u001b[0m                         Traceback (most recent call last)",
      "Cell \u001b[1;32mIn[52], line 30\u001b[0m\n\u001b[0;32m     25\u001b[0m \u001b[38;5;28;01mdef\u001b[39;00m\u001b[38;5;250m \u001b[39m\u001b[38;5;21minsert_element\u001b[39m(my_list, i, element):\n\u001b[0;32m     26\u001b[0m     \u001b[38;5;28;01mreturn\u001b[39;00m my_list[:i] \u001b[38;5;241m+\u001b[39m [element] \u001b[38;5;241m+\u001b[39m my_list[i:]\n\u001b[1;32m---> 30\u001b[0m \u001b[43msort\u001b[49m\u001b[43m(\u001b[49m\u001b[43m[\u001b[49m\u001b[43m[\u001b[49m\u001b[38;5;241;43m1\u001b[39;49m\u001b[43m,\u001b[49m\u001b[38;5;241;43m8\u001b[39;49m\u001b[43m,\u001b[49m\u001b[38;5;241;43m6\u001b[39;49m\u001b[43m,\u001b[49m\u001b[38;5;241;43m57\u001b[39;49m\u001b[43m]\u001b[49m\u001b[43m,\u001b[49m\u001b[43m \u001b[49m\u001b[43m[\u001b[49m\u001b[38;5;241;43m23\u001b[39;49m\u001b[43m,\u001b[49m\u001b[38;5;241;43m67\u001b[39;49m\u001b[43m,\u001b[49m\u001b[38;5;241;43m24\u001b[39;49m\u001b[43m,\u001b[49m\u001b[38;5;241;43m54\u001b[39;49m\u001b[43m]\u001b[49m\u001b[43m,\u001b[49m\u001b[43m \u001b[49m\u001b[43m[\u001b[49m\u001b[38;5;241;43m21\u001b[39;49m\u001b[43m,\u001b[49m\u001b[38;5;241;43m13\u001b[39;49m\u001b[43m,\u001b[49m\u001b[38;5;241;43m56\u001b[39;49m\u001b[43m,\u001b[49m\u001b[38;5;241;43m90\u001b[39;49m\u001b[43m,\u001b[49m\u001b[38;5;241;43m91\u001b[39;49m\u001b[43m,\u001b[49m\u001b[38;5;241;43m78\u001b[39;49m\u001b[43m]\u001b[49m\u001b[43m]\u001b[49m\u001b[43m)\u001b[49m\n",
      "Cell \u001b[1;32mIn[52], line 3\u001b[0m, in \u001b[0;36msort\u001b[1;34m(lst)\u001b[0m\n\u001b[0;32m      1\u001b[0m \u001b[38;5;28;01mdef\u001b[39;00m\u001b[38;5;250m \u001b[39m\u001b[38;5;21msort\u001b[39m(lst):\n\u001b[0;32m      2\u001b[0m     \u001b[38;5;28;01mfor\u001b[39;00m i \u001b[38;5;129;01min\u001b[39;00m lst:\n\u001b[1;32m----> 3\u001b[0m             \u001b[43minsertionSort\u001b[49m\u001b[43m(\u001b[49m\u001b[43mi\u001b[49m\u001b[43m)\u001b[49m\n\u001b[0;32m      4\u001b[0m     \u001b[38;5;28mprint\u001b[39m(lst)\n",
      "Cell \u001b[1;32mIn[52], line 16\u001b[0m, in \u001b[0;36minsertionSort\u001b[1;34m(lst)\u001b[0m\n\u001b[0;32m     14\u001b[0m     \u001b[38;5;28;01mif\u001b[39;00m \u001b[38;5;28mmin\u001b[39m \u001b[38;5;241m<\u001b[39m\u001b[38;5;241m=\u001b[39m j:\n\u001b[0;32m     15\u001b[0m         \u001b[38;5;28mmin\u001b[39m \u001b[38;5;241m=\u001b[39m j \n\u001b[1;32m---> 16\u001b[0m \u001b[43mremove_element\u001b[49m\u001b[43m(\u001b[49m\u001b[43mlst\u001b[49m\u001b[43m,\u001b[49m\u001b[43m \u001b[49m\u001b[38;5;28;43mmin\u001b[39;49m\u001b[43m)\u001b[49m\n\u001b[0;32m     17\u001b[0m lst\u001b[38;5;241m.\u001b[39minsert(\u001b[38;5;241m0\u001b[39m, \u001b[38;5;28mmin\u001b[39m)\n\u001b[0;32m     18\u001b[0m i\u001b[38;5;241m+\u001b[39m\u001b[38;5;241m=\u001b[39m\u001b[38;5;241m1\u001b[39m\n",
      "Cell \u001b[1;32mIn[52], line 23\u001b[0m, in \u001b[0;36mremove_element\u001b[1;34m(my_list, i)\u001b[0m\n\u001b[0;32m     22\u001b[0m \u001b[38;5;28;01mdef\u001b[39;00m\u001b[38;5;250m \u001b[39m\u001b[38;5;21mremove_element\u001b[39m(my_list, i):\n\u001b[1;32m---> 23\u001b[0m     \u001b[38;5;28;01mreturn\u001b[39;00m [item \u001b[38;5;28;01mfor\u001b[39;00m item \u001b[38;5;129;01min\u001b[39;00m my_list \u001b[38;5;28;01mif\u001b[39;00m i \u001b[38;5;241m!=\u001b[39m item]\n",
      "\u001b[1;31mKeyboardInterrupt\u001b[0m: "
     ]
    }
   ],
   "source": [
    "def sort(lst):\n",
    "    for i in lst:\n",
    "            insertionSort(i)\n",
    "    print(lst)\n",
    "\n",
    "def insertionSort(lst):\n",
    "    n = len(lst)\n",
    "    if n <= 1:\n",
    "        return lst\n",
    "    i = 0\n",
    "    while i < len(lst):\n",
    "        min = lst[i]\n",
    "        for j in lst[i+1:]:\n",
    "            if min <= j:\n",
    "                min = j \n",
    "        remove_element(lst, min)\n",
    "        lst.insert(0, min)\n",
    "        i+=1\n",
    "\n",
    "    return lst\n",
    "\n",
    "def remove_element(my_list, i):\n",
    "    return [item for item in my_list if i != item]\n",
    "\n",
    "def insert_element(my_list, i, element):\n",
    "    return my_list[:i] + [element] + my_list[i:]\n",
    "\n",
    "\n",
    "\n",
    "sort([[1,8,6,57], [23,67,24,54], [21,13,56,90,91,78]])\n"
   ]
  },
  {
   "cell_type": "code",
   "execution_count": 56,
   "metadata": {},
   "outputs": [
    {
     "ename": "KeyboardInterrupt",
     "evalue": "",
     "output_type": "error",
     "traceback": [
      "\u001b[1;31m---------------------------------------------------------------------------\u001b[0m",
      "\u001b[1;31mKeyboardInterrupt\u001b[0m                         Traceback (most recent call last)",
      "Cell \u001b[1;32mIn[56], line 14\u001b[0m\n\u001b[0;32m     10\u001b[0m         lst \u001b[38;5;241m=\u001b[39m lst[::\u001b[38;5;241m-\u001b[39m\u001b[38;5;241m1\u001b[39m]\n\u001b[0;32m     12\u001b[0m     \u001b[38;5;28;01mreturn\u001b[39;00m lst\n\u001b[1;32m---> 14\u001b[0m \u001b[38;5;28mprint\u001b[39m(\u001b[43minsert\u001b[49m\u001b[43m(\u001b[49m\u001b[43m[\u001b[49m\u001b[38;5;241;43m1\u001b[39;49m\u001b[43m,\u001b[49m\u001b[38;5;241;43m2\u001b[39;49m\u001b[43m,\u001b[49m\u001b[38;5;241;43m3\u001b[39;49m\u001b[43m,\u001b[49m\u001b[38;5;241;43m8\u001b[39;49m\u001b[43m,\u001b[49m\u001b[38;5;241;43m5\u001b[39;49m\u001b[43m]\u001b[49m\u001b[43m,\u001b[49m\u001b[43m \u001b[49m\u001b[38;5;28;43;01mTrue\u001b[39;49;00m\u001b[43m)\u001b[49m)\n",
      "Cell \u001b[1;32mIn[56], line 5\u001b[0m, in \u001b[0;36minsert\u001b[1;34m(lst, mode)\u001b[0m\n\u001b[0;32m      3\u001b[0m elem \u001b[38;5;241m=\u001b[39m lst[i]\n\u001b[0;32m      4\u001b[0m j \u001b[38;5;241m=\u001b[39m i \u001b[38;5;241m-\u001b[39m \u001b[38;5;241m1\u001b[39m\n\u001b[1;32m----> 5\u001b[0m \u001b[38;5;28;01mwhile\u001b[39;00m j \u001b[38;5;241m>\u001b[39m\u001b[38;5;241m=\u001b[39m \u001b[38;5;241m0\u001b[39m \u001b[38;5;129;01mand\u001b[39;00m elem \u001b[38;5;241m<\u001b[39m lst[j]:\n\u001b[0;32m      6\u001b[0m     lst[j\u001b[38;5;241m+\u001b[39m\u001b[38;5;241m1\u001b[39m] \u001b[38;5;241m=\u001b[39m lst[j]\n\u001b[0;32m      7\u001b[0m lst[j\u001b[38;5;241m+\u001b[39m\u001b[38;5;241m1\u001b[39m] \u001b[38;5;241m=\u001b[39m elem\n",
      "\u001b[1;31mKeyboardInterrupt\u001b[0m: "
     ]
    }
   ],
   "source": [
    "def insert(lst, mode):\n",
    "    for i in range(1,len(lst)):\n",
    "        elem = lst[i]\n",
    "        j = i - 1\n",
    "        while j >= 0 and elem < lst[j]:\n",
    "            lst[j+1] = lst[j]\n",
    "        lst[j+1] = elem\n",
    "\n",
    "    if not mode:\n",
    "        lst = lst[::-1]\n",
    "\n",
    "    return lst\n",
    "\n",
    "print(insert([1,2,3,8,5], True))"
   ]
  },
  {
   "cell_type": "markdown",
   "metadata": {},
   "source": [
    "# Transpose list\n",
    "- given list of list write python code to transpose it \n",
    "- assume all sublists are same length \n",
    "- do it in list comprehension"
   ]
  },
  {
   "cell_type": "code",
   "execution_count": null,
   "metadata": {},
   "outputs": [
    {
     "name": "stdout",
     "output_type": "stream",
     "text": [
      "[None, None]\n",
      "[[1, 3, 5], [2, 4, 6]]\n"
     ]
    }
   ],
   "source": [
    "matrix = [[1,2], [3,4], [5,6]]\n",
    "\n",
    "def transpose(matrix):\n",
    "    transposed = [None] * len(matrix[0])\n",
    "    print(transposed)\n",
    "\n",
    "    for j in range(len(matrix[0])):\n",
    "        transposed[j] = [matrix[i][j] for i in range(len(matrix))] \n",
    "    \n",
    "    return transposed\n",
    "    \n",
    "\n",
    "transpose(matrix)\n",
    "\n",
    "transpoed_comp = [[matrix[i][j] for i in range(len(matrix))] for j in range(len(matrix[0]))]\n",
    "print(transpoed_comp)"
   ]
  }
 ],
 "metadata": {
  "kernelspec": {
   "display_name": "Python 3",
   "language": "python",
   "name": "python3"
  },
  "language_info": {
   "codemirror_mode": {
    "name": "ipython",
    "version": 3
   },
   "file_extension": ".py",
   "mimetype": "text/x-python",
   "name": "python",
   "nbconvert_exporter": "python",
   "pygments_lexer": "ipython3",
   "version": "3.12.6"
  }
 },
 "nbformat": 4,
 "nbformat_minor": 2
}
